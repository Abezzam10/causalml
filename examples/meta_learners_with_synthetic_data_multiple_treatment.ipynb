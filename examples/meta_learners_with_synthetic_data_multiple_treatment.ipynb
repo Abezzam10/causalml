{
 "cells": [
  {
   "cell_type": "markdown",
   "metadata": {},
   "source": [
    "# `causalml` - Meta-Learner Example Notebook"
   ]
  },
  {
   "cell_type": "code",
   "execution_count": 1,
   "metadata": {},
   "outputs": [
    {
     "name": "stdout",
     "output_type": "stream",
     "text": [
      "set dir to base_path: /Users/mike.yung/Documents/repos/causalml/causalml\n"
     ]
    }
   ],
   "source": [
    "# pick the right base path (only run ONCE)\n",
    "import os\n",
    "base_path = os.path.abspath(\"../causalml\")\n",
    "os.chdir(base_path)\n",
    "print(\"set dir to base_path:\", base_path)"
   ]
  },
  {
   "cell_type": "code",
   "execution_count": 2,
   "metadata": {},
   "outputs": [],
   "source": [
    "%reload_ext autoreload\n",
    "%autoreload 2"
   ]
  },
  {
   "cell_type": "code",
   "execution_count": 19,
   "metadata": {},
   "outputs": [],
   "source": [
    "import pandas as pd\n",
    "import numpy as np\n",
    "from matplotlib import pyplot as plt\n",
    "from sklearn.linear_model import LinearRegression\n",
    "from sklearn.model_selection import train_test_split\n",
    "import statsmodels.api as sm\n",
    "from xgboost import XGBRegressor\n",
    "import warnings\n",
    "\n",
    "# from causalml.inference.meta import XGBTLearner, MLPTLearner\n",
    "from inference.meta import BaseSRegressor, BaseTRegressor, BaseXRegressor, BaseRRegressor\n",
    "from inference.meta import LRSRegressor\n",
    "from causalml.match import NearestNeighborMatch, MatchOptimizer, create_table_one\n",
    "from causalml.propensity import ElasticNetPropensityModel\n",
    "from causalml.dataset import *\n",
    "from causalml.metrics import *\n",
    "\n",
    "warnings.filterwarnings('ignore')\n",
    "plt.style.use('fivethirtyeight')\n",
    "pd.set_option('display.float_format', lambda x: '%.4f' % x)\n",
    "\n",
    "# imports from package\n",
    "import logging\n",
    "from sklearn.dummy import DummyRegressor\n",
    "from sklearn.metrics import mean_squared_error as mse\n",
    "from sklearn.metrics import mean_absolute_error as mae\n",
    "import statsmodels.api as sm\n",
    "from copy import deepcopy\n",
    "\n",
    "logger = logging.getLogger('causalml')\n",
    "logging.basicConfig(level=logging.INFO)\n",
    "\n",
    "%matplotlib inline"
   ]
  },
  {
   "cell_type": "markdown",
   "metadata": {},
   "source": [
    "# TO DO:\n",
    "- replace r2e with vague terms\n",
    "- test code\n",
    "- isinstance verification for e (array vs dict)"
   ]
  },
  {
   "cell_type": "markdown",
   "metadata": {},
   "source": [
    "### Generate synthetic data\n",
    "Note: we randomize the assignment of treatment flag across `r2e`, `r2j`, and `universal_control` AFTER the synthetic data generation process, so it doesn't make sense to measure accuracy metrics here. Next steps would be to include multi-treatment in the DGP itself."
   ]
  },
  {
   "cell_type": "code",
   "execution_count": 20,
   "metadata": {},
   "outputs": [],
   "source": [
    "# Generate synthetic data using mode 1\n",
    "y, X, treatment, tau, b, e = synthetic_data(mode=1, n=10000, p=8, sigma=1.0)\n",
    "\n",
    "treatment = np.array([('r2e' if np.random.random() > 0.2 else 'r2j') \n",
    "                      if val==1 else 'universal_control' for val in treatment])\n",
    "\n",
    "e = {group: e for group in np.unique(treatment)}"
   ]
  },
  {
   "cell_type": "code",
   "execution_count": 21,
   "metadata": {},
   "outputs": [
    {
     "data": {
      "text/plain": [
       "((10000,),\n",
       " (10000, 8),\n",
       " (10000,),\n",
       " (10000,),\n",
       " (10000,),\n",
       " dict_keys(['r2e', 'r2j', 'universal_control']))"
      ]
     },
     "execution_count": 21,
     "metadata": {},
     "output_type": "execute_result"
    }
   ],
   "source": [
    "y.shape, X.shape, treatment.shape, tau.shape, b.shape, e.keys()"
   ]
  },
  {
   "cell_type": "code",
   "execution_count": 22,
   "metadata": {},
   "outputs": [
    {
     "data": {
      "text/plain": [
       "universal_control    4792\n",
       "r2e                  4206\n",
       "r2j                  1002\n",
       "dtype: int64"
      ]
     },
     "execution_count": 22,
     "metadata": {},
     "output_type": "execute_result"
    }
   ],
   "source": [
    "pd.Series(treatment).value_counts()"
   ]
  },
  {
   "cell_type": "markdown",
   "metadata": {},
   "source": [
    "# S-Learner"
   ]
  },
  {
   "cell_type": "markdown",
   "metadata": {},
   "source": [
    "### Calculate Average Treatment Effect (ATE)\n",
    "A meta-learner can be instantiated by calling a base learner class and providing an sklearn/xgboost regressor class as input. Alternatively, we have provided some ready-to-use learners that have already inherited their respective base learner class capabilities. This is more abstracted and allows these tools to be quickly and readily usable."
   ]
  },
  {
   "cell_type": "code",
   "execution_count": 23,
   "metadata": {},
   "outputs": [
    {
     "name": "stderr",
     "output_type": "stream",
     "text": [
      "INFO:causalml:Error metrics for r2e\n",
      "INFO:causalml:RMSE (Control): 0.988941\n",
      "INFO:causalml: MAE (Control): 0.793387\n",
      "INFO:causalml:RMSE (Treatment): 0.976328\n",
      "INFO:causalml: MAE (Treatment): 0.781079\n",
      "INFO:causalml:Error metrics for r2j\n",
      "INFO:causalml:RMSE (Control): 0.998260\n",
      "INFO:causalml: MAE (Control): 0.798443\n",
      "INFO:causalml:RMSE (Treatment): 0.937652\n",
      "INFO:causalml: MAE (Treatment): 0.757923\n"
     ]
    }
   ],
   "source": [
    "learner_s = BaseSRegressor(XGBRegressor(), control_name='universal_control')\n",
    "ate_s = learner_s.estimate_ate(X=X, treatment=treatment, y=y, return_ci=False)"
   ]
  },
  {
   "cell_type": "code",
   "execution_count": 24,
   "metadata": {},
   "outputs": [
    {
     "data": {
      "text/plain": [
       "array([0.32285869, 0.19792396])"
      ]
     },
     "execution_count": 24,
     "metadata": {},
     "output_type": "execute_result"
    }
   ],
   "source": [
    "ate_s"
   ]
  },
  {
   "cell_type": "code",
   "execution_count": 25,
   "metadata": {},
   "outputs": [
    {
     "data": {
      "text/plain": [
       "{'r2e': 0, 'r2j': 1}"
      ]
     },
     "execution_count": 25,
     "metadata": {},
     "output_type": "execute_result"
    }
   ],
   "source": [
    "learner_s._classes"
   ]
  },
  {
   "cell_type": "markdown",
   "metadata": {},
   "source": [
    "### Calculate Average Treatment Effect (ATE) with Confidence Intervals\n",
    "Note: S-Learner is the only learner that uses bootstrapping to get confidence intervals."
   ]
  },
  {
   "cell_type": "code",
   "execution_count": 26,
   "metadata": {},
   "outputs": [
    {
     "name": "stderr",
     "output_type": "stream",
     "text": [
      "INFO:causalml:Error metrics for r2e\n",
      "INFO:causalml:RMSE (Control): 0.988941\n",
      "INFO:causalml: MAE (Control): 0.793387\n",
      "INFO:causalml:RMSE (Treatment): 0.976328\n",
      "INFO:causalml: MAE (Treatment): 0.781079\n",
      "INFO:causalml:Error metrics for r2j\n",
      "INFO:causalml:RMSE (Control): 0.998260\n",
      "INFO:causalml: MAE (Control): 0.798443\n",
      "INFO:causalml:RMSE (Treatment): 0.937652\n",
      "INFO:causalml: MAE (Treatment): 0.757923\n",
      "INFO:causalml:11/100 bootstraps completed. (6s lapsed)\n",
      "INFO:causalml:21/100 bootstraps completed. (11s lapsed)\n",
      "INFO:causalml:31/100 bootstraps completed. (17s lapsed)\n",
      "INFO:causalml:41/100 bootstraps completed. (22s lapsed)\n",
      "INFO:causalml:51/100 bootstraps completed. (28s lapsed)\n",
      "INFO:causalml:61/100 bootstraps completed. (33s lapsed)\n",
      "INFO:causalml:71/100 bootstraps completed. (39s lapsed)\n",
      "INFO:causalml:81/100 bootstraps completed. (44s lapsed)\n",
      "INFO:causalml:91/100 bootstraps completed. (50s lapsed)\n"
     ]
    }
   ],
   "source": [
    "alpha = 0.05\n",
    "learner_s = BaseSRegressor(XGBRegressor(), ate_alpha=alpha, control_name='universal_control')\n",
    "ate_s, ate_s_lb, ate_s_ub = learner_s.estimate_ate(X=X, treatment=treatment, y=y, return_ci=True,\n",
    "                               n_bootstraps=100, bootstrap_size=5000)"
   ]
  },
  {
   "cell_type": "code",
   "execution_count": 55,
   "metadata": {},
   "outputs": [
    {
     "data": {
      "text/plain": [
       "array([[0.41677539, 0.24936168],\n",
       "       [0.46277096, 0.31626756],\n",
       "       [0.50876652, 0.38317343]])"
      ]
     },
     "execution_count": 55,
     "metadata": {},
     "output_type": "execute_result"
    }
   ],
   "source": [
    "np.vstack((ate_s_lb, ate_s, ate_s_ub))"
   ]
  },
  {
   "cell_type": "markdown",
   "metadata": {},
   "source": [
    "### Calculate Conditional Average Treatment Effect (CATE)"
   ]
  },
  {
   "cell_type": "code",
   "execution_count": 34,
   "metadata": {},
   "outputs": [
    {
     "name": "stderr",
     "output_type": "stream",
     "text": [
      "INFO:causalml:Error metrics for r2e\n",
      "INFO:causalml:RMSE (Control): 0.988941\n",
      "INFO:causalml: MAE (Control): 0.793387\n",
      "INFO:causalml:RMSE (Treatment): 0.976328\n",
      "INFO:causalml: MAE (Treatment): 0.781079\n",
      "INFO:causalml:Error metrics for r2j\n",
      "INFO:causalml:RMSE (Control): 0.998260\n",
      "INFO:causalml: MAE (Control): 0.798443\n",
      "INFO:causalml:RMSE (Treatment): 0.937652\n",
      "INFO:causalml: MAE (Treatment): 0.757923\n"
     ]
    }
   ],
   "source": [
    "learner_s = BaseSRegressor(XGBRegressor(), control_name='universal_control')\n",
    "cate_s = learner_s.fit_predict(X=X, treatment=treatment, y=y, return_ci=False)"
   ]
  },
  {
   "cell_type": "code",
   "execution_count": 35,
   "metadata": {},
   "outputs": [
    {
     "data": {
      "text/plain": [
       "array([[0.37033653, 0.13440609],\n",
       "       [0.32564282, 0.09924769],\n",
       "       [0.2427628 , 0.15917277],\n",
       "       ...,\n",
       "       [0.32736456, 0.1633774 ],\n",
       "       [0.29325938, 0.00615835],\n",
       "       [0.3569839 , 0.09473681]])"
      ]
     },
     "execution_count": 35,
     "metadata": {},
     "output_type": "execute_result"
    }
   ],
   "source": [
    "cate_s"
   ]
  },
  {
   "cell_type": "markdown",
   "metadata": {},
   "source": [
    "### Calculate Conditional Average Treatment Effect (CATE) with Confidence Intervals"
   ]
  },
  {
   "cell_type": "code",
   "execution_count": 36,
   "metadata": {},
   "outputs": [
    {
     "name": "stderr",
     "output_type": "stream",
     "text": [
      "INFO:causalml:Error metrics for r2e\n",
      "INFO:causalml:RMSE (Control): 0.988941\n",
      "INFO:causalml: MAE (Control): 0.793387\n",
      "INFO:causalml:RMSE (Treatment): 0.976328\n",
      "INFO:causalml: MAE (Treatment): 0.781079\n",
      "INFO:causalml:Error metrics for r2j\n",
      "INFO:causalml:RMSE (Control): 0.998260\n",
      "INFO:causalml: MAE (Control): 0.798443\n",
      "INFO:causalml:RMSE (Treatment): 0.937652\n",
      "INFO:causalml: MAE (Treatment): 0.757923\n",
      "INFO:causalml:11/100 bootstraps completed. (6s lapsed)\n",
      "INFO:causalml:21/100 bootstraps completed. (11s lapsed)\n",
      "INFO:causalml:31/100 bootstraps completed. (17s lapsed)\n",
      "INFO:causalml:41/100 bootstraps completed. (23s lapsed)\n",
      "INFO:causalml:51/100 bootstraps completed. (28s lapsed)\n",
      "INFO:causalml:61/100 bootstraps completed. (34s lapsed)\n",
      "INFO:causalml:71/100 bootstraps completed. (39s lapsed)\n",
      "INFO:causalml:81/100 bootstraps completed. (45s lapsed)\n",
      "INFO:causalml:91/100 bootstraps completed. (50s lapsed)\n"
     ]
    }
   ],
   "source": [
    "alpha = 0.05\n",
    "learner_s = BaseSRegressor(XGBRegressor(), ate_alpha=alpha, control_name='universal_control')\n",
    "cate_s, cate_s_lb, cate_s_ub = learner_s.fit_predict(X=X, treatment=treatment, y=y, return_ci=True,\n",
    "                               n_bootstraps=100, bootstrap_size=5000)"
   ]
  },
  {
   "cell_type": "code",
   "execution_count": 37,
   "metadata": {},
   "outputs": [
    {
     "data": {
      "text/plain": [
       "array([[0.37033653, 0.13440609],\n",
       "       [0.32564282, 0.09924769],\n",
       "       [0.2427628 , 0.15917277],\n",
       "       ...,\n",
       "       [0.32736456, 0.1633774 ],\n",
       "       [0.29325938, 0.00615835],\n",
       "       [0.3569839 , 0.09473681]])"
      ]
     },
     "execution_count": 37,
     "metadata": {},
     "output_type": "execute_result"
    }
   ],
   "source": [
    "cate_s"
   ]
  },
  {
   "cell_type": "code",
   "execution_count": 38,
   "metadata": {},
   "outputs": [
    {
     "data": {
      "text/plain": [
       "array([[ 0.16903253, -0.0817153 ],\n",
       "       [ 0.14498152, -0.09743129],\n",
       "       [-0.02855065, -0.10780186],\n",
       "       ...,\n",
       "       [ 0.15263323, -0.01066773],\n",
       "       [ 0.18758904, -0.16499385],\n",
       "       [ 0.18332611, -0.05347238]])"
      ]
     },
     "execution_count": 38,
     "metadata": {},
     "output_type": "execute_result"
    }
   ],
   "source": [
    "cate_s_lb"
   ]
  },
  {
   "cell_type": "code",
   "execution_count": 39,
   "metadata": {},
   "outputs": [
    {
     "data": {
      "text/plain": [
       "array([[0.59200499, 0.33903381],\n",
       "       [0.55588762, 0.37639186],\n",
       "       [0.46880216, 0.40275881],\n",
       "       ...,\n",
       "       [0.50411047, 0.29451183],\n",
       "       [0.60400441, 0.23725823],\n",
       "       [0.5838425 , 0.35298031]])"
      ]
     },
     "execution_count": 39,
     "metadata": {},
     "output_type": "execute_result"
    }
   ],
   "source": [
    "cate_s_ub"
   ]
  },
  {
   "cell_type": "markdown",
   "metadata": {},
   "source": [
    "# T-Learner"
   ]
  },
  {
   "cell_type": "markdown",
   "metadata": {},
   "source": [
    "### Calculate Average Treatment Effect (ATE) with Confidence Intervals"
   ]
  },
  {
   "cell_type": "code",
   "execution_count": 58,
   "metadata": {},
   "outputs": [
    {
     "name": "stderr",
     "output_type": "stream",
     "text": [
      "INFO:causalml:Error metrics for r2e\n",
      "INFO:causalml:RMSE (Control): 0.973033\n",
      "INFO:causalml: MAE (Control): 0.781256\n",
      "INFO:causalml:RMSE (Treatment): 0.938649\n",
      "INFO:causalml: MAE (Treatment): 0.751823\n",
      "INFO:causalml:Error metrics for r2j\n",
      "INFO:causalml:RMSE (Control): 0.992381\n",
      "INFO:causalml: MAE (Control): 0.793648\n",
      "INFO:causalml:RMSE (Treatment): 0.768362\n",
      "INFO:causalml: MAE (Treatment): 0.611264\n"
     ]
    }
   ],
   "source": [
    "learner_t = BaseTRegressor(XGBRegressor(), control_name='universal_control')\n",
    "ate_t, ate_t_lb, ate_t_ub = learner_t.estimate_ate(X=X, treatment=treatment, y=y)"
   ]
  },
  {
   "cell_type": "code",
   "execution_count": 60,
   "metadata": {},
   "outputs": [
    {
     "data": {
      "text/plain": [
       "array([[0.30467597, 0.22723333],\n",
       "       [0.34288039, 0.27951737],\n",
       "       [0.38108481, 0.3318014 ]])"
      ]
     },
     "execution_count": 60,
     "metadata": {},
     "output_type": "execute_result"
    }
   ],
   "source": [
    "np.vstack((ate_t_lb, ate_t, ate_t_ub))"
   ]
  },
  {
   "cell_type": "markdown",
   "metadata": {},
   "source": [
    "### Calculate Conditional Average Treatment Effect (ATE)"
   ]
  },
  {
   "cell_type": "code",
   "execution_count": 42,
   "metadata": {},
   "outputs": [
    {
     "name": "stderr",
     "output_type": "stream",
     "text": [
      "INFO:causalml:Error metrics for r2e\n",
      "INFO:causalml:RMSE (Control): 0.973033\n",
      "INFO:causalml: MAE (Control): 0.781256\n",
      "INFO:causalml:RMSE (Treatment): 0.938649\n",
      "INFO:causalml: MAE (Treatment): 0.751823\n",
      "INFO:causalml:Error metrics for r2j\n",
      "INFO:causalml:RMSE (Control): 0.992381\n",
      "INFO:causalml: MAE (Control): 0.793648\n",
      "INFO:causalml:RMSE (Treatment): 0.768362\n",
      "INFO:causalml: MAE (Treatment): 0.611264\n"
     ]
    }
   ],
   "source": [
    "learner_t = BaseTRegressor(XGBRegressor(), control_name='universal_control')\n",
    "cate_t = learner_t.fit_predict(X=X, treatment=treatment, y=y)"
   ]
  },
  {
   "cell_type": "code",
   "execution_count": 43,
   "metadata": {},
   "outputs": [
    {
     "data": {
      "text/plain": [
       "array([[ 0.27777576, -0.0025537 ],\n",
       "       [ 0.43208611, -0.20154428],\n",
       "       [ 0.14786184,  0.21264517],\n",
       "       ...,\n",
       "       [ 0.4014715 , -0.13369215],\n",
       "       [ 0.68604362,  0.02513599],\n",
       "       [ 0.67860246, -0.32197523]])"
      ]
     },
     "execution_count": 43,
     "metadata": {},
     "output_type": "execute_result"
    }
   ],
   "source": [
    "cate_t"
   ]
  },
  {
   "cell_type": "markdown",
   "metadata": {},
   "source": [
    "### Calculate Conditional Average Treatment Effect (ATE) with Confidence Intervals"
   ]
  },
  {
   "cell_type": "code",
   "execution_count": 44,
   "metadata": {},
   "outputs": [
    {
     "name": "stderr",
     "output_type": "stream",
     "text": [
      "INFO:causalml:Error metrics for r2e\n",
      "INFO:causalml:RMSE (Control): 0.973033\n",
      "INFO:causalml: MAE (Control): 0.781256\n",
      "INFO:causalml:RMSE (Treatment): 0.938649\n",
      "INFO:causalml: MAE (Treatment): 0.751823\n",
      "INFO:causalml:Error metrics for r2j\n",
      "INFO:causalml:RMSE (Control): 0.992381\n",
      "INFO:causalml: MAE (Control): 0.793648\n",
      "INFO:causalml:RMSE (Treatment): 0.768362\n",
      "INFO:causalml: MAE (Treatment): 0.611264\n",
      "INFO:causalml:10/100 bootstraps completed. (6s lapsed)\n",
      "INFO:causalml:20/100 bootstraps completed. (11s lapsed)\n",
      "INFO:causalml:30/100 bootstraps completed. (17s lapsed)\n",
      "INFO:causalml:40/100 bootstraps completed. (23s lapsed)\n",
      "INFO:causalml:50/100 bootstraps completed. (28s lapsed)\n",
      "INFO:causalml:60/100 bootstraps completed. (34s lapsed)\n",
      "INFO:causalml:70/100 bootstraps completed. (40s lapsed)\n",
      "INFO:causalml:80/100 bootstraps completed. (45s lapsed)\n",
      "INFO:causalml:90/100 bootstraps completed. (51s lapsed)\n"
     ]
    }
   ],
   "source": [
    "learner_t = BaseTRegressor(XGBRegressor(), control_name='universal_control')\n",
    "cate_t, cate_t_lb, cate_t_ub = learner_t.fit_predict(X=X, treatment=treatment, y=y, return_ci=True, n_bootstraps=100,\n",
    "                                                    bootstrap_size=5000)"
   ]
  },
  {
   "cell_type": "code",
   "execution_count": 45,
   "metadata": {},
   "outputs": [
    {
     "data": {
      "text/plain": [
       "array([[ 0.27777576, -0.0025537 ],\n",
       "       [ 0.43208611, -0.20154428],\n",
       "       [ 0.14786184,  0.21264517],\n",
       "       ...,\n",
       "       [ 0.4014715 , -0.13369215],\n",
       "       [ 0.68604362,  0.02513599],\n",
       "       [ 0.67860246, -0.32197523]])"
      ]
     },
     "execution_count": 45,
     "metadata": {},
     "output_type": "execute_result"
    }
   ],
   "source": [
    "cate_t"
   ]
  },
  {
   "cell_type": "code",
   "execution_count": 46,
   "metadata": {},
   "outputs": [
    {
     "data": {
      "text/plain": [
       "array([[-0.22201658, -0.69963114],\n",
       "       [-0.23848298, -0.96522925],\n",
       "       [-0.4593563 , -0.36840751],\n",
       "       ...,\n",
       "       [ 0.12090419, -0.47052266],\n",
       "       [-0.42977596, -0.99949225],\n",
       "       [ 0.20469286, -0.92965147]])"
      ]
     },
     "execution_count": 46,
     "metadata": {},
     "output_type": "execute_result"
    }
   ],
   "source": [
    "cate_t_lb"
   ]
  },
  {
   "cell_type": "code",
   "execution_count": 47,
   "metadata": {},
   "outputs": [
    {
     "data": {
      "text/plain": [
       "array([[1.13054974, 0.62586471],\n",
       "       [1.12672175, 0.68304824],\n",
       "       [1.28894761, 1.25686054],\n",
       "       ...,\n",
       "       [0.73597165, 0.43932298],\n",
       "       [1.06732534, 0.7830918 ],\n",
       "       [1.35791065, 0.60335202]])"
      ]
     },
     "execution_count": 47,
     "metadata": {},
     "output_type": "execute_result"
    }
   ],
   "source": [
    "cate_t_ub"
   ]
  },
  {
   "cell_type": "markdown",
   "metadata": {},
   "source": [
    "# X-Learner"
   ]
  },
  {
   "cell_type": "markdown",
   "metadata": {},
   "source": [
    "### Calculate Average Treatment Effect (ATE) with Confidence Intervals"
   ]
  },
  {
   "cell_type": "code",
   "execution_count": 80,
   "metadata": {},
   "outputs": [],
   "source": [
    "learner_x = BaseXRegressor(XGBRegressor(), control_name='universal_control')\n",
    "ate_x, ate_x_lb, ate_x_ub = learner_x.estimate_ate(X=X, p=e, treatment=treatment, y=y)"
   ]
  },
  {
   "cell_type": "code",
   "execution_count": 81,
   "metadata": {},
   "outputs": [
    {
     "data": {
      "text/plain": [
       "array([[0.29226742, 0.22782826],\n",
       "       [0.33027346, 0.27986794],\n",
       "       [0.36827951, 0.33190761]])"
      ]
     },
     "execution_count": 81,
     "metadata": {},
     "output_type": "execute_result"
    }
   ],
   "source": [
    "np.vstack((ate_x_lb, ate_x, ate_x_ub))"
   ]
  },
  {
   "cell_type": "markdown",
   "metadata": {},
   "source": [
    "### Calculate Condtional Average Treatment Effect (ATE) "
   ]
  },
  {
   "cell_type": "code",
   "execution_count": 61,
   "metadata": {},
   "outputs": [],
   "source": [
    "learner_x = BaseXRegressor(XGBRegressor(), control_name='universal_control')\n",
    "cate_x = learner_x.fit_predict(X=X, p=e, treatment=treatment, y=y)"
   ]
  },
  {
   "cell_type": "code",
   "execution_count": 62,
   "metadata": {},
   "outputs": [
    {
     "data": {
      "text/plain": [
       "array([[ 0.36650637, -0.12216383],\n",
       "       [ 0.40333039,  0.01863524],\n",
       "       [ 0.52379155,  0.2945742 ],\n",
       "       ...,\n",
       "       [ 0.3604455 , -0.12414569],\n",
       "       [ 0.33226529, -0.28476495],\n",
       "       [ 0.22890523, -0.00719666]])"
      ]
     },
     "execution_count": 62,
     "metadata": {},
     "output_type": "execute_result"
    }
   ],
   "source": [
    "cate_x"
   ]
  },
  {
   "cell_type": "markdown",
   "metadata": {},
   "source": [
    "### Calculate Condtional Average Treatment Effect (ATE) with Confidence Intervals"
   ]
  },
  {
   "cell_type": "code",
   "execution_count": 63,
   "metadata": {},
   "outputs": [
    {
     "name": "stderr",
     "output_type": "stream",
     "text": [
      "INFO:causalml:10/100 bootstraps completed. (11s lapsed)\n",
      "INFO:causalml:20/100 bootstraps completed. (22s lapsed)\n",
      "INFO:causalml:30/100 bootstraps completed. (32s lapsed)\n",
      "INFO:causalml:40/100 bootstraps completed. (42s lapsed)\n",
      "INFO:causalml:50/100 bootstraps completed. (53s lapsed)\n",
      "INFO:causalml:60/100 bootstraps completed. (63s lapsed)\n",
      "INFO:causalml:70/100 bootstraps completed. (74s lapsed)\n",
      "INFO:causalml:80/100 bootstraps completed. (85s lapsed)\n",
      "INFO:causalml:90/100 bootstraps completed. (96s lapsed)\n"
     ]
    }
   ],
   "source": [
    "learner_x = BaseXRegressor(XGBRegressor(), control_name='universal_control')\n",
    "cate_x, cate_x_lb, cate_x_ub = learner_x.fit_predict(X=X, p=e, treatment=treatment, y=y, return_ci=True,\n",
    "                                                     n_bootstraps=100, bootstrap_size=5000)"
   ]
  },
  {
   "cell_type": "code",
   "execution_count": 64,
   "metadata": {},
   "outputs": [
    {
     "data": {
      "text/plain": [
       "{'r2e': 0, 'r2j': 1}"
      ]
     },
     "execution_count": 64,
     "metadata": {},
     "output_type": "execute_result"
    }
   ],
   "source": [
    "learner_x._classes"
   ]
  },
  {
   "cell_type": "code",
   "execution_count": 65,
   "metadata": {},
   "outputs": [
    {
     "data": {
      "text/plain": [
       "array([[ 0.36650637, -0.12216383],\n",
       "       [ 0.40333039,  0.01863524],\n",
       "       [ 0.52379155,  0.2945742 ],\n",
       "       ...,\n",
       "       [ 0.3604455 , -0.12414569],\n",
       "       [ 0.33226529, -0.28476495],\n",
       "       [ 0.22890523, -0.00719666]])"
      ]
     },
     "execution_count": 65,
     "metadata": {},
     "output_type": "execute_result"
    }
   ],
   "source": [
    "cate_x"
   ]
  },
  {
   "cell_type": "code",
   "execution_count": 66,
   "metadata": {},
   "outputs": [
    {
     "data": {
      "text/plain": [
       "array([[-0.20076865, -0.43604701],\n",
       "       [-0.07776893, -1.06379047],\n",
       "       [-0.04851962, -0.15368102],\n",
       "       ...,\n",
       "       [ 0.17486212, -0.24250639],\n",
       "       [-0.06702488, -0.78176423],\n",
       "       [-0.27846991, -0.71353383]])"
      ]
     },
     "execution_count": 66,
     "metadata": {},
     "output_type": "execute_result"
    }
   ],
   "source": [
    "cate_x_lb"
   ]
  },
  {
   "cell_type": "code",
   "execution_count": 67,
   "metadata": {},
   "outputs": [
    {
     "data": {
      "text/plain": [
       "array([[0.74844774, 0.44571568],\n",
       "       [0.92017255, 0.51834216],\n",
       "       [0.81848718, 0.96341439],\n",
       "       ...,\n",
       "       [0.5959333 , 0.24373442],\n",
       "       [0.76051654, 0.30073609],\n",
       "       [0.73132552, 0.27787276]])"
      ]
     },
     "execution_count": 67,
     "metadata": {},
     "output_type": "execute_result"
    }
   ],
   "source": [
    "cate_x_ub"
   ]
  },
  {
   "cell_type": "markdown",
   "metadata": {},
   "source": [
    "# R-Learner"
   ]
  },
  {
   "cell_type": "markdown",
   "metadata": {},
   "source": [
    "### Calculate Average Treatment Effect (ATE) with Confidence Intervals"
   ]
  },
  {
   "cell_type": "code",
   "execution_count": 82,
   "metadata": {},
   "outputs": [
    {
     "name": "stderr",
     "output_type": "stream",
     "text": [
      "INFO:causalml:generating out-of-fold CV outcome estimates\n",
      "INFO:causalml:training the treatment effect model for r2e with R-loss\n",
      "INFO:causalml:training the treatment effect model for r2j with R-loss\n"
     ]
    }
   ],
   "source": [
    "learner_r = BaseRRegressor(XGBRegressor(), control_name='universal_control')\n",
    "ate_r, ate_r_lb, ate_r_ub = learner_r.estimate_ate(X=X, p=e, treatment=treatment, y=y)"
   ]
  },
  {
   "cell_type": "code",
   "execution_count": 83,
   "metadata": {},
   "outputs": [
    {
     "data": {
      "text/plain": [
       "array([[0.26321572, 0.10800292],\n",
       "       [0.26362685, 0.10865883],\n",
       "       [0.26403798, 0.10931475]])"
      ]
     },
     "execution_count": 83,
     "metadata": {},
     "output_type": "execute_result"
    }
   ],
   "source": [
    "np.vstack((ate_r_lb, ate_r, ate_r_ub))"
   ]
  },
  {
   "cell_type": "markdown",
   "metadata": {},
   "source": [
    "### Calculate Conditional Average Treatment Effect (CATE)"
   ]
  },
  {
   "cell_type": "code",
   "execution_count": 84,
   "metadata": {},
   "outputs": [
    {
     "name": "stderr",
     "output_type": "stream",
     "text": [
      "INFO:causalml:generating out-of-fold CV outcome estimates\n",
      "INFO:causalml:training the treatment effect model for r2e with R-loss\n",
      "INFO:causalml:training the treatment effect model for r2j with R-loss\n"
     ]
    }
   ],
   "source": [
    "learner_r = BaseRRegressor(XGBRegressor(), control_name='universal_control')\n",
    "cate_r = learner_r.fit_predict(X=X, p=e, treatment=treatment, y=y)"
   ]
  },
  {
   "cell_type": "markdown",
   "metadata": {},
   "source": [
    "### Calculate Condtional Average Treatment Effect (ATE) with Confidence Intervals"
   ]
  },
  {
   "cell_type": "code",
   "execution_count": 95,
   "metadata": {
    "scrolled": true
   },
   "outputs": [
    {
     "name": "stderr",
     "output_type": "stream",
     "text": [
      "INFO:causalml:generating out-of-fold CV outcome estimates\n",
      "INFO:causalml:training the treatment effect model for r2e with R-loss\n",
      "INFO:causalml:training the treatment effect model for r2j with R-loss\n",
      "INFO:causalml:10/100 bootstraps completed. (10s lapsed)\n",
      "INFO:causalml:20/100 bootstraps completed. (19s lapsed)\n",
      "INFO:causalml:30/100 bootstraps completed. (28s lapsed)\n",
      "INFO:causalml:40/100 bootstraps completed. (37s lapsed)\n",
      "INFO:causalml:50/100 bootstraps completed. (46s lapsed)\n",
      "INFO:causalml:60/100 bootstraps completed. (55s lapsed)\n",
      "INFO:causalml:70/100 bootstraps completed. (64s lapsed)\n",
      "INFO:causalml:80/100 bootstraps completed. (72s lapsed)\n",
      "INFO:causalml:90/100 bootstraps completed. (82s lapsed)\n"
     ]
    }
   ],
   "source": [
    "learner_r = BaseRRegressor(XGBRegressor(), control_name='universal_control')\n",
    "cate_r, cate_r_lb, cate_r_ub = learner_r.fit_predict(X=X, p=e, treatment=treatment, y=y, return_ci=True,\n",
    "                                                     n_bootstraps=100, bootstrap_size=3000)"
   ]
  },
  {
   "cell_type": "code",
   "execution_count": 96,
   "metadata": {},
   "outputs": [
    {
     "data": {
      "text/plain": [
       "array([[ 0.31275874, -0.04896599],\n",
       "       [ 0.32795316,  0.11169842],\n",
       "       [ 0.19722641,  0.12030035],\n",
       "       ...,\n",
       "       [ 0.26378715, -0.06084013],\n",
       "       [-0.0328095 , -0.05429262],\n",
       "       [ 0.41110483, -0.0762921 ]])"
      ]
     },
     "execution_count": 96,
     "metadata": {},
     "output_type": "execute_result"
    }
   ],
   "source": [
    "cate_r"
   ]
  },
  {
   "cell_type": "code",
   "execution_count": 97,
   "metadata": {},
   "outputs": [
    {
     "data": {
      "text/plain": [
       "array([[-0.45090959, -0.57718222],\n",
       "       [-0.42285973, -0.59342855],\n",
       "       [-0.68406428, -0.42502841],\n",
       "       ...,\n",
       "       [-0.06616784, -0.28936204],\n",
       "       [-0.76433859, -1.06219046],\n",
       "       [-0.62117668, -0.74499337]])"
      ]
     },
     "execution_count": 97,
     "metadata": {},
     "output_type": "execute_result"
    }
   ],
   "source": [
    "cate_r_lb"
   ]
  },
  {
   "cell_type": "code",
   "execution_count": 98,
   "metadata": {},
   "outputs": [
    {
     "data": {
      "text/plain": [
       "array([[0.9371004 , 0.33132645],\n",
       "       [1.30804473, 0.70526177],\n",
       "       [1.18989689, 0.87876232],\n",
       "       ...,\n",
       "       [0.77938618, 0.13846633],\n",
       "       [0.99240078, 0.29567263],\n",
       "       [1.14223521, 0.38470038]])"
      ]
     },
     "execution_count": 98,
     "metadata": {},
     "output_type": "execute_result"
    }
   ],
   "source": [
    "cate_r_ub"
   ]
  },
  {
   "cell_type": "markdown",
   "metadata": {},
   "source": [
    "# Visualize"
   ]
  },
  {
   "cell_type": "code",
   "execution_count": 114,
   "metadata": {},
   "outputs": [
    {
     "data": {
      "image/png": "[encoded data removed]",
      "text/plain": [
       "<Figure size 864x576 with 1 Axes>"
      ]
     },
     "metadata": {
      "needs_background": "light"
     },
     "output_type": "display_data"
    }
   ],
   "source": [
    "alpha = 1\n",
    "linewidth = 2\n",
    "bins = 30\n",
    "plt.figure(figsize=(12,8))\n",
    "for group,idx in sorted(groups.items(), key=lambda x: x[1]):\n",
    "    plt.hist(cate_t[:,idx], alpha=alpha, bins=bins, label='T Learner ({})'.format(group),\n",
    "             histtype='step', linewidth=linewidth)\n",
    "    plt.hist(cate_x[:,idx], alpha=alpha, bins=bins, label='X Learner ({})'.format(group),\n",
    "             histtype='step', linewidth=linewidth)\n",
    "    plt.hist(cate_r[:,idx], alpha=alpha, bins=bins, label='R Learner ({})'.format(group),\n",
    "             histtype='step', linewidth=linewidth)\n",
    "    plt.vlines(cate_s[0,idx], 0, plt.axes().get_ylim()[1], label='S Learner {}'.format(group),\n",
    "               linestyles='dotted', linewidth=linewidth)\n",
    "plt.title('Distribution of CATE Predictions by Meta Learner')\n",
    "plt.xlabel('Individual Treatment Effect (ITE/CATE)')\n",
    "plt.ylabel('# of Samples')\n",
    "_=plt.legend()"
   ]
  },
  {
   "cell_type": "code",
   "execution_count": null,
   "metadata": {},
   "outputs": [],
   "source": []
  }
 ],
 "metadata": {
  "kernelspec": {
   "display_name": "Python 3",
   "language": "python",
   "name": "python3"
  },
  "language_info": {
   "codemirror_mode": {
    "name": "ipython",
    "version": 3
   },
   "file_extension": ".py",
   "mimetype": "text/x-python",
   "name": "python",
   "nbconvert_exporter": "python",
   "pygments_lexer": "ipython3",
   "version": "3.6.8"
  },
  "toc": {
   "base_numbering": 1,
   "nav_menu": {
    "height": "174px",
    "width": "252px"
   },
   "number_sections": false,
   "sideBar": true,
   "skip_h1_title": false,
   "title_cell": "Table of Contents",
   "title_sidebar": "Contents",
   "toc_cell": false,
   "toc_position": {
    "height": "calc(100% - 180px)",
    "left": "10px",
    "top": "150px",
    "width": "165px"
   },
   "toc_section_display": "block",
   "toc_window_display": false
  }
 },
 "nbformat": 4,
 "nbformat_minor": 2
}
